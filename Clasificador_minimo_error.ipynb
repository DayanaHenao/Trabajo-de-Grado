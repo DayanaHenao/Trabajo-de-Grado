{
 "cells": [
  {
   "cell_type": "markdown",
   "id": "8143104d",
   "metadata": {},
   "source": [
    "### Importe de librerias \n"
   ]
  },
  {
   "cell_type": "code",
   "execution_count": 16,
   "id": "b346f03b",
   "metadata": {},
   "outputs": [
    {
     "name": "stdout",
     "output_type": "stream",
     "text": [
      "Requirement already satisfied: tqdm in /mnt/c/Users/Usuario/OneDrive/Escritorio/Trabajo de Grado/venv/lib/python3.12/site-packages (4.67.1)\n",
      "Requirement already satisfied: tqdm in ./venv/lib/python3.12/site-packages (4.67.1)\n"
     ]
    }
   ],
   "source": [
    "#Para poner la barra de progreso durante el entrenamiento \n",
    "!pip install tqdm\n",
    "import sys\n",
    "!\"{sys.executable}\" -m pip install tqdm "
   ]
  },
  {
   "cell_type": "code",
   "execution_count": 9,
   "id": "a94dda93",
   "metadata": {},
   "outputs": [],
   "source": [
    "import pennylane as qml\n",
    "import numpy as np\n",
    "from pennylane import numpy as pnp\n",
    "import matplotlib.pyplot as plt\n",
    "from tqdm import tqdm"
   ]
  },
  {
   "cell_type": "markdown",
   "id": "865aaf2f",
   "metadata": {},
   "source": [
    "### Definición del dispositivo y número de qubits"
   ]
  },
  {
   "cell_type": "markdown",
   "id": "a5f4404b",
   "metadata": {},
   "source": [
    "Un dispositivo cuántico es un objeto que representa el backend donde se ejecuta el circuito cuántico.\n",
    "\n",
    "qml.device carga un dispositivo cuántico particular.\n",
    "\n",
    "'default.qubit':un simulador de estados puros.\n",
    "\n",
    "'default.mixed':un simulador de estados mezclados."
   ]
  },
  {
   "cell_type": "code",
   "execution_count": 10,
   "id": "8c5c74e5",
   "metadata": {},
   "outputs": [],
   "source": [
    "#Definición del dispositivo cuántico\n",
    "dev = qml.device(\"default.mixed\", wires=4) #Simulador de estados mixtos"
   ]
  },
  {
   "cell_type": "markdown",
   "id": "f01ec65c",
   "metadata": {},
   "source": [
    "### Arquitectura del Circuito \n"
   ]
  },
  {
   "cell_type": "markdown",
   "id": "dda8a809",
   "metadata": {},
   "source": [
    "Un QNode es una función que contiene al circuito variacional y el dispositivo computacional en el que se ejecuta.\n",
    "\n",
    "interface=\"autograd\": le dice a PennyLane que los parámetros serán diferenciables con autograd (la librería automática de derivación)."
   ]
  },
  {
   "cell_type": "markdown",
   "id": "d09469ab",
   "metadata": {},
   "source": [
    "qml.QubitDensityMatrix requiere el estado total del sistema completo.\n",
    "\n",
    "Toma el estado base (qubits 0 y 1 en |00⟩⟨00|) y lo combina con el estado rho (en qubits 2 y 3) para formar el estado de los 4 qubits juntos.\n"
   ]
  },
  {
   "cell_type": "code",
   "execution_count": 11,
   "id": "b276076f",
   "metadata": {},
   "outputs": [],
   "source": [
    "\n",
    "@qml.qnode(dev) #Decorador para definir el circuito cuántico\n",
    "def Circuit(params, rho):\n",
    "    # Crear estado |00⟩⟨00| para qubits 0 y 1\n",
    "    base = pnp.zeros((4,4), dtype=complex)\n",
    "    base[0,0] = 1.0 # Para poner la primera entrada de la matriz en 1 y el resto en 0\n",
    "    \n",
    "    # Producto tensorial para obtener estado total de 4 qubits\n",
    "    full_state = pnp.kron(base, rho)\n",
    "    \n",
    "    # Usar en el dispositivo de 4 qubits\n",
    "    qml.QubitDensityMatrix(full_state, wires=[0, 1, 2, 3])\n",
    "    \n",
    "    qml.Rot(params[0], params[1], params[2], wires=0)\n",
    "    qml.Rot(params[3], params[4], params[5], wires=1)\n",
    "    qml.Rot(params[6], params[7], params[8], wires=2)\n",
    "    qml.Rot(params[9], params[10], params[11], wires=3)\n",
    "    \n",
    "    qml.CNOT(wires=[0, 1])\n",
    "    qml.CNOT(wires=[0, 2])\n",
    "    qml.CNOT(wires=[0, 3])\n",
    "    qml.CNOT(wires=[3, 0])\n",
    "       \n",
    "    qml.ctrl(qml.Rot(params[12], params[13], params[14], wires=1), control=0)\n",
    "    qml.ctrl(qml.Rot(params[15], params[16], params[17], wires=2), control=0)\n",
    "    qml.ctrl(qml.Rot(params[18], params[19], params[20], wires=3), control=0)\n",
    "        \n",
    "    \n",
    "    qml.ctrl(qml.CNOT(wires=[1, 2]), control=0)\n",
    "    qml.ctrl(qml.CNOT(wires=[1, 3]), control=0)\n",
    "    qml.ctrl(qml.CNOT(wires=[3, 1]), control=0)\n",
    "    \n",
    "    \n",
    "    qml.PauliX(wires=0)\n",
    "    \n",
    "    \n",
    "    qml.ctrl(qml.Rot(params[21], params[22], params[23], wires=1), control=0)\n",
    "    qml.ctrl(qml.Rot(params[24], params[25], params[26], wires=2), control=0)\n",
    "    qml.ctrl(qml.Rot(params[27], params[28], params[29], wires=3), control=0)\n",
    "        \n",
    "    \n",
    "    qml.ctrl(qml.CNOT(wires=[1, 2]), control=0)\n",
    "    qml.ctrl(qml.CNOT(wires=[1, 3]), control=0)\n",
    "    qml.ctrl(qml.CNOT(wires=[3, 1]), control=0)\n",
    "    \n",
    "    qml.PauliX(wires=0)\n",
    "    \n",
    "    return qml.probs(wires=[0, 1]) \n",
    "\n"
   ]
  },
  {
   "cell_type": "markdown",
   "id": "4151a1fa",
   "metadata": {},
   "source": [
    "### Definición de las familias "
   ]
  },
  {
   "cell_type": "markdown",
   "id": "13bc2ecf",
   "metadata": {},
   "source": [
    "dtype= complex porque aunque las matrices se definan para parametros a y b reales, \n",
    "la evolución del sistema si puede introducir números complejos."
   ]
  },
  {
   "cell_type": "code",
   "execution_count": 12,
   "id": "1f57d8f6",
   "metadata": {},
   "outputs": [],
   "source": [
    "def ρ1(a):\n",
    "    \n",
    "    psi1 = pnp.array([np.sqrt(1 - a*a), 0.0, a, 0.0], dtype=complex)\n",
    "    rho1 = pnp.outer(psi1, psi1.conj())\n",
    "    return rho1, 1\n",
    "\n",
    "def ρ2(b):\n",
    "\n",
    "    psi2 = pnp.array([0.0, np.sqrt(1 - b*b), b, 0.0], dtype=complex)\n",
    "    psi3 = pnp.array([0.0, -np.sqrt(1 - b*b), b, 0.0], dtype=complex)\n",
    "    rho2 = 0.5 * np.outer(psi2, psi2.conj()) + 0.5 * np.outer(psi3, psi3.conj())\n",
    "\n",
    "    return rho2, 2\n",
    "    "
   ]
  },
  {
   "cell_type": "code",
   "execution_count": 21,
   "id": "c3518c93",
   "metadata": {},
   "outputs": [
    {
     "data": {
      "text/plain": [
       "(array([[0.  +0.j, 0.  +0.j, 0.  +0.j, 0.  +0.j],\n",
       "        [0.  +0.j, 0.75+0.j, 0.  +0.j, 0.  +0.j],\n",
       "        [0.  +0.j, 0.  +0.j, 0.25+0.j, 0.  +0.j],\n",
       "        [0.  +0.j, 0.  +0.j, 0.  +0.j, 0.  +0.j]]),\n",
       " 2)"
      ]
     },
     "execution_count": 21,
     "metadata": {},
     "output_type": "execute_result"
    }
   ],
   "source": [
    "\n",
    "ρ2(0.5)"
   ]
  },
  {
   "cell_type": "code",
   "execution_count": 22,
   "id": "2a0e726b",
   "metadata": {},
   "outputs": [
    {
     "data": {
      "text/plain": [
       "(tensor([[0.75     +0.j, 0.       +0.j, 0.4330127+0.j, 0.       +0.j],\n",
       "         [0.       +0.j, 0.       +0.j, 0.       +0.j, 0.       +0.j],\n",
       "         [0.4330127+0.j, 0.       +0.j, 0.25     +0.j, 0.       +0.j],\n",
       "         [0.       +0.j, 0.       +0.j, 0.       +0.j, 0.       +0.j]], requires_grad=True),\n",
       " 1)"
      ]
     },
     "execution_count": 22,
     "metadata": {},
     "output_type": "execute_result"
    }
   ],
   "source": [
    "ρ1(0.5)"
   ]
  },
  {
   "cell_type": "markdown",
   "id": "6537966c",
   "metadata": {},
   "source": [
    "### Conjunto de Datos de Prueba \n",
    "\n",
    "Para el caso de la distribución uniforme"
   ]
  },
  {
   "cell_type": "code",
   "execution_count": 23,
   "id": "6ee6d5d9",
   "metadata": {},
   "outputs": [],
   "source": [
    "np.random.seed(2)\n",
    "n_test = 10000\n",
    "data_test = []\n",
    "\n",
    "# Clase 1: rho1, etiqueta = 1\n",
    "a_test = np.random.uniform(0, 1, int(n_test/2))\n",
    "for a in a_test:\n",
    "    rho, label = ρ1(a)\n",
    "    data_test.append((rho, label))\n",
    "\n",
    "# Clase 2: rho2, etiqueta = 2\n",
    "b_test = np.random.uniform(0, 1, int(n_test/2))\n",
    "for b in b_test:\n",
    "    rho, label = ρ2(b)\n",
    "    data_test.append((rho, label))"
   ]
  },
  {
   "cell_type": "code",
   "execution_count": 24,
   "id": "c610783c",
   "metadata": {},
   "outputs": [
    {
     "name": "stdout",
     "output_type": "stream",
     "text": [
      "[(array([[0.        +0.j, 0.        +0.j, 0.        +0.j, 0.        +0.j],\n",
      "       [0.        +0.j, 0.41449482+0.j, 0.        +0.j, 0.        +0.j],\n",
      "       [0.        +0.j, 0.        +0.j, 0.58550518+0.j, 0.        +0.j],\n",
      "       [0.        +0.j, 0.        +0.j, 0.        +0.j, 0.        +0.j]]), 2), (array([[0.        +0.j, 0.        +0.j, 0.        +0.j, 0.        +0.j],\n",
      "       [0.        +0.j, 0.95172484+0.j, 0.        +0.j, 0.        +0.j],\n",
      "       [0.        +0.j, 0.        +0.j, 0.04827516+0.j, 0.        +0.j],\n",
      "       [0.        +0.j, 0.        +0.j, 0.        +0.j, 0.        +0.j]]), 2), (array([[0.        +0.j, 0.        +0.j, 0.        +0.j, 0.        +0.j],\n",
      "       [0.        +0.j, 0.46098541+0.j, 0.        +0.j, 0.        +0.j],\n",
      "       [0.        +0.j, 0.        +0.j, 0.53901459+0.j, 0.        +0.j],\n",
      "       [0.        +0.j, 0.        +0.j, 0.        +0.j, 0.        +0.j]]), 2), (array([[0.        +0.j, 0.        +0.j, 0.        +0.j, 0.        +0.j],\n",
      "       [0.        +0.j, 0.40221869+0.j, 0.        +0.j, 0.        +0.j],\n",
      "       [0.        +0.j, 0.        +0.j, 0.59778131+0.j, 0.        +0.j],\n",
      "       [0.        +0.j, 0.        +0.j, 0.        +0.j, 0.        +0.j]]), 2), (array([[0.        +0.j, 0.        +0.j, 0.        +0.j, 0.        +0.j],\n",
      "       [0.        +0.j, 0.96997635+0.j, 0.        +0.j, 0.        +0.j],\n",
      "       [0.        +0.j, 0.        +0.j, 0.03002365+0.j, 0.        +0.j],\n",
      "       [0.        +0.j, 0.        +0.j, 0.        +0.j, 0.        +0.j]]), 2)]\n"
     ]
    }
   ],
   "source": [
    "print(data_test[-5:])"
   ]
  },
  {
   "cell_type": "markdown",
   "id": "57e055d6",
   "metadata": {},
   "source": [
    "### Conjunto de Datos de Entrenamiento \n"
   ]
  },
  {
   "cell_type": "code",
   "execution_count": 25,
   "id": "ebfc314a",
   "metadata": {},
   "outputs": [],
   "source": [
    "np.random.seed(1)\n",
    "n_samples = 100\n",
    "data_train = []\n",
    "\n",
    "# Familia 1 → usa ρ1(a), etiqueta = 1\n",
    "a_values = np.random.uniform(0, 1, int(n_samples/2))\n",
    "for a in a_values:\n",
    "    rho, label = ρ1(a)  # rho es matriz 4x4, label = 1\n",
    "    data_train.append((rho, label))\n",
    "\n",
    "# Familia 2 → usa ρ2(b), etiqueta = 2\n",
    "b_values = np.random.uniform(0, 1, int(n_samples/2))\n",
    "for b in b_values:\n",
    "    rho, label = ρ2(b)  # rho es matriz 4x4, label = 2\n",
    "    data_train.append((rho, label))\n"
   ]
  },
  {
   "cell_type": "code",
   "execution_count": 26,
   "id": "958aac3d",
   "metadata": {},
   "outputs": [
    {
     "name": "stdout",
     "output_type": "stream",
     "text": [
      "[(array([[0.        +0.j, 0.        +0.j, 0.        +0.j, 0.        +0.j],\n",
      "       [0.        +0.j, 0.94381821+0.j, 0.        +0.j, 0.        +0.j],\n",
      "       [0.        +0.j, 0.        +0.j, 0.05618179+0.j, 0.        +0.j],\n",
      "       [0.        +0.j, 0.        +0.j, 0.        +0.j, 0.        +0.j]]), 2), (array([[0.        +0.j, 0.        +0.j, 0.        +0.j, 0.        +0.j],\n",
      "       [0.        +0.j, 0.18390544+0.j, 0.        +0.j, 0.        +0.j],\n",
      "       [0.        +0.j, 0.        +0.j, 0.81609456+0.j, 0.        +0.j],\n",
      "       [0.        +0.j, 0.        +0.j, 0.        +0.j, 0.        +0.j]]), 2), (array([[0.        +0.j, 0.        +0.j, 0.        +0.j, 0.        +0.j],\n",
      "       [0.        +0.j, 0.67089185+0.j, 0.        +0.j, 0.        +0.j],\n",
      "       [0.        +0.j, 0.        +0.j, 0.32910815+0.j, 0.        +0.j],\n",
      "       [0.        +0.j, 0.        +0.j, 0.        +0.j, 0.        +0.j]]), 2), (array([[0.00000000e+00+0.j, 0.00000000e+00+0.j, 0.00000000e+00+0.j,\n",
      "        0.00000000e+00+0.j],\n",
      "       [0.00000000e+00+0.j, 9.99991761e-01+0.j, 0.00000000e+00+0.j,\n",
      "        0.00000000e+00+0.j],\n",
      "       [0.00000000e+00+0.j, 0.00000000e+00+0.j, 8.23877727e-06+0.j,\n",
      "        0.00000000e+00+0.j],\n",
      "       [0.00000000e+00+0.j, 0.00000000e+00+0.j, 0.00000000e+00+0.j,\n",
      "        0.00000000e+00+0.j]]), 2), (array([[0.        +0.j, 0.        +0.j, 0.        +0.j, 0.        +0.j],\n",
      "       [0.        +0.j, 0.61913216+0.j, 0.        +0.j, 0.        +0.j],\n",
      "       [0.        +0.j, 0.        +0.j, 0.38086784+0.j, 0.        +0.j],\n",
      "       [0.        +0.j, 0.        +0.j, 0.        +0.j, 0.        +0.j]]), 2)]\n"
     ]
    }
   ],
   "source": [
    "print(data_train[-5:])"
   ]
  },
  {
   "cell_type": "markdown",
   "id": "fae9cc7e",
   "metadata": {},
   "source": [
    "### Función de Pérdida \n"
   ]
  },
  {
   "cell_type": "code",
   "execution_count": 13,
   "id": "0d4f42d5",
   "metadata": {},
   "outputs": [],
   "source": [
    "# Funciones de pérdida\n",
    "\n",
    "# Clasificación mínimo error (Probabilidad de inconclusiones casi nula)\n",
    "\n",
    "alpha_err =  10  # penaliza los errores\n",
    "alpha_inc = 20 # penaliza los resultados inconclusos\n",
    "\n",
    "# Función de pérdida para una muestra según el label:\n",
    "# label 1: familia 1 se espera que los outcomes 00 y 10 sean correctos.\n",
    "# label 2: familia 2 se espera que el outcome 01 sea correcto.\n",
    "\n",
    "def sample_loss(params, rho, label):\n",
    "    \n",
    "    probs = Circuit(params, rho)\n",
    "    # |00> -> probs[0], |01> -> probs[1], |10> -> probs[2], |11> -> probs[3]\n",
    "    if label == 1:\n",
    "        # Familia 1 => éxito: (|00>, |10>), error: |01>, inconcluso: |11>\n",
    "        p_suc = probs[0] + probs[2]\n",
    "        p_err = probs[1]\n",
    "        p_inc = probs[3]\n",
    "    else:\n",
    "        # Familia 2 => éxito: |01>, error: (|00>, |10>), inconcluso: |11>\n",
    "        p_suc = probs[1]\n",
    "        p_err = probs[0] + probs[2]\n",
    "        p_inc = probs[3]\n",
    "        \n",
    "    return (\n",
    "    pnp.abs(p_suc - 1.0)\n",
    "    + alpha_err * pnp.abs(p_err - 0.0)\n",
    "    + alpha_inc * pnp.abs(p_inc - 0.0)\n",
    "    )\n",
    "\n",
    "# Función global de pérdida que promedia sobre el conjunto de muestras\n",
    "\n",
    "def loss(params, samples):\n",
    "    total = pnp.array(0.0, requires_grad=True) #iniciar el acumulador del costo total,\n",
    "    #asegurar que ese acumulador soporta derivación automática, y permitir que luego PennyLane optimice los parámetros con gradientes.  \n",
    "\n",
    "    for (rho, label) in samples:\n",
    "        total = total + sample_loss(params, rho, label)\n",
    "\n",
    "    avg = total / len(samples)           \n",
    "    return avg  "
   ]
  },
  {
   "cell_type": "code",
   "execution_count": 14,
   "id": "0f127f0e",
   "metadata": {},
   "outputs": [],
   "source": [
    "def get_probabilities(params, rho, label):\n",
    "    \"\"\"Calcula las probabilidades de salida del circuito, dada la matriz de densidad.\"\"\"\n",
    "    \n",
    "    return Circuit(params, rho)\n"
   ]
  },
  {
   "cell_type": "markdown",
   "id": "8ba4f3f8",
   "metadata": {},
   "source": [
    "### Evaluación del modelo"
   ]
  },
  {
   "cell_type": "code",
   "execution_count": 15,
   "id": "8c0f2842",
   "metadata": {},
   "outputs": [],
   "source": [
    "def evaluate_model(params, samples):\n",
    "    \"\"\"Evalúa tasas promedio de éxito, error e inconcluso en cada familia.\"\"\"\n",
    "    \n",
    "    # Separar por familia\n",
    "    S1 = [rho for (rho, label) in samples if label == 1]\n",
    "    S2 = [rho for (rho, label) in samples if label == 2]\n",
    "\n",
    "    total_suc_1, total_err_1, total_inc_1 = 0, 0, 0\n",
    "    total_suc_2, total_err_2, total_inc_2 = 0, 0, 0\n",
    "\n",
    "    for rho in S1:\n",
    "        probs = get_probabilities(params, rho, 1)\n",
    "        total_suc_1 += probs[0] + probs[2]  # éxito\n",
    "        total_err_1 += probs[1]\n",
    "        total_inc_1 += probs[3]\n",
    "\n",
    "    for rho in S2:\n",
    "        probs = get_probabilities(params, rho, 2)\n",
    "        total_suc_2 += probs[1]             # éxito\n",
    "        total_err_2 += probs[0] + probs[2]\n",
    "        total_inc_2 += probs[3]\n",
    "\n",
    "    # Promedios por familia\n",
    "    n1, n2 = len(S1), len(S2)\n",
    "    suc = (total_suc_1 + total_suc_2) / (n1 + n2)\n",
    "    err = (total_err_1 + total_err_2) / (n1 + n2)\n",
    "    inc = (total_inc_1 + total_inc_2) / (n1 + n2)\n",
    "\n",
    "    return suc, err, inc\n"
   ]
  },
  {
   "cell_type": "markdown",
   "id": "0d8167c6",
   "metadata": {},
   "source": [
    "### Entrenamiento del modelo\n"
   ]
  },
  {
   "cell_type": "markdown",
   "id": "186c462c",
   "metadata": {},
   "source": [
    "params, curr_loss = opt.step_and_cost(lambda v: loss(v, data_train), params)\n",
    "\n",
    "opt: Optimizador\n",
    ".step_and_cost(...): Método que actualiza los parámetros y devuelve el valor de la función de costo\n",
    "\n",
    "\n",
    "Calcula el valor de la función de la función de costo (loss(...)) para los parámetros actuales.\n",
    "Calcula el gradiente de esa función de costo con respecto a los parámetros.\n",
    "Actualiza los parámetros en la dirección que reduce la función de costo.\n",
    "\n",
    "Devuelve:\n",
    "\n",
    "params: los nuevos parámetros después de actualizar.\n",
    "\n",
    "curr_loss: el valor actual de la función de costo.\n",
    "\n",
    "La función lambda hace que el optimizador calcule la función de costo con los parámetros v usando el conjunto de datos data_train que ya está fijado.\n",
    "\n"
   ]
  },
  {
   "cell_type": "code",
   "execution_count": 30,
   "id": "bbe3d15d",
   "metadata": {},
   "outputs": [
    {
     "name": "stderr",
     "output_type": "stream",
     "text": [
      "Entrenando:  10%|█         | 50/500 [2:09:44<20:04:48, 160.64s/it]"
     ]
    },
    {
     "name": "stdout",
     "output_type": "stream",
     "text": [
      "Iter  50: loss=5.6646, train_suc=0.499, train_err=0.490, train_inc=0.012 | test_suc=0.499, test_err=0.490, test_inc=0.012\n"
     ]
    },
    {
     "name": "stderr",
     "output_type": "stream",
     "text": [
      "Entrenando:  20%|██        | 100/500 [4:21:22<18:08:26, 163.27s/it]"
     ]
    },
    {
     "name": "stdout",
     "output_type": "stream",
     "text": [
      "Iter 100: loss=3.9248, train_suc=0.649, train_err=0.348, train_inc=0.003 | test_suc=0.650, test_err=0.347, test_inc=0.003\n"
     ]
    },
    {
     "name": "stderr",
     "output_type": "stream",
     "text": [
      "Entrenando:  30%|███       | 150/500 [6:50:06<15:20:54, 157.87s/it]"
     ]
    },
    {
     "name": "stdout",
     "output_type": "stream",
     "text": [
      "Iter 150: loss=2.4127, train_suc=0.783, train_err=0.217, train_inc=0.001 | test_suc=0.785, test_err=0.215, test_inc=0.001\n"
     ]
    },
    {
     "name": "stderr",
     "output_type": "stream",
     "text": [
      "Entrenando:  40%|████      | 200/500 [9:02:25<13:29:38, 161.93s/it]"
     ]
    },
    {
     "name": "stdout",
     "output_type": "stream",
     "text": [
      "Iter 200: loss=1.9204, train_suc=0.826, train_err=0.174, train_inc=0.000 | test_suc=0.828, test_err=0.172, test_inc=0.000\n"
     ]
    },
    {
     "name": "stderr",
     "output_type": "stream",
     "text": [
      "Entrenando:  50%|█████     | 250/500 [11:14:16<10:44:46, 154.75s/it]"
     ]
    },
    {
     "name": "stdout",
     "output_type": "stream",
     "text": [
      "Iter 250: loss=1.8436, train_suc=0.832, train_err=0.168, train_inc=0.000 | test_suc=0.834, test_err=0.166, test_inc=0.000\n"
     ]
    },
    {
     "name": "stderr",
     "output_type": "stream",
     "text": [
      "Entrenando:  60%|██████    | 300/500 [13:23:34<8:37:48, 155.34s/it] "
     ]
    },
    {
     "name": "stdout",
     "output_type": "stream",
     "text": [
      "Iter 300: loss=1.8384, train_suc=0.833, train_err=0.167, train_inc=0.000 | test_suc=0.835, test_err=0.165, test_inc=0.000\n"
     ]
    },
    {
     "name": "stderr",
     "output_type": "stream",
     "text": [
      "Entrenando:  70%|███████   | 350/500 [15:32:52<6:25:59, 154.40s/it]"
     ]
    },
    {
     "name": "stdout",
     "output_type": "stream",
     "text": [
      "Iter 350: loss=1.8383, train_suc=0.833, train_err=0.167, train_inc=0.000 | test_suc=0.835, test_err=0.165, test_inc=0.000\n"
     ]
    },
    {
     "name": "stderr",
     "output_type": "stream",
     "text": [
      "Entrenando:  80%|████████  | 400/500 [17:42:28<4:18:54, 155.34s/it]"
     ]
    },
    {
     "name": "stdout",
     "output_type": "stream",
     "text": [
      "Iter 400: loss=1.8383, train_suc=0.833, train_err=0.167, train_inc=0.000 | test_suc=0.835, test_err=0.165, test_inc=0.000\n"
     ]
    },
    {
     "name": "stderr",
     "output_type": "stream",
     "text": [
      "Entrenando:  87%|████████▋ | 433/500 [19:05:46<2:57:17, 158.77s/it]"
     ]
    },
    {
     "name": "stdout",
     "output_type": "stream",
     "text": [
      "⏹️ Early stopping en la iteración 434. Mejor pérdida: 1.838308\n",
      "\n",
      "Parámetros entrenados:\n",
      "[ 2.05237045e+00  3.14159267e+00  4.85192684e+00  2.24479211e+00\n",
      "  4.71474722e+00  3.14123523e+00 -2.63190917e-01  4.64829157e+00\n",
      "  3.15442749e+00  6.26636428e+00  3.14158779e+00  8.61649326e-01\n",
      "  5.85967011e+00  4.37823763e+00  4.14691316e-01  4.74671435e+00\n",
      "  4.73674379e+00  5.79953420e+00  4.88282270e+00  6.65804262e-09\n",
      "  1.24910562e-01  1.64688488e-01  1.77854910e-01  1.54698976e+00\n",
      "  5.40371497e+00  3.38557543e+00  3.47348293e+00  4.57536325e+00\n",
      "  6.43156905e-08  1.75416279e+00]\n",
      "\n",
      "Resultados finales en el conjunto de prueba:\n",
      "  Éxito promedio     = 0.8348\n",
      "  Error promedio     = 0.1652\n",
      "  Inconcluso promedio = 0.0000\n"
     ]
    },
    {
     "name": "stderr",
     "output_type": "stream",
     "text": [
      "\n"
     ]
    }
   ],
   "source": [
    "'''Entrenamiento del modelo'''\n",
    "\n",
    "opt = qml.AdamOptimizer(stepsize=0.01)\n",
    "n_iter = 500  # Número de iteraciones de entrenamiento\n",
    "# Inicialización de los parámetros del circuito\n",
    "\n",
    "# Se convierte a array de PennyLane con requires_grad (con un array de numpy normal no funciona)\n",
    "\n",
    "'''Como los parámetros a entrenar son los ángulos de las compuertas de rotación,\n",
    "propongo que los parámetros iniciale sean escogidos de 0 a 2π'''\n",
    "\n",
    "initial_params = np.random.uniform(0, 2*np.pi, 30)\n",
    "params = pnp.array(initial_params, requires_grad=True) #Pennylane necesita saber que variables deben ser tratadas como diferenciables\n",
    "\n",
    "# Parámetros de early stopping\n",
    "patience = 100  # Número de iteraciones sin mejora antes de detener\n",
    "min_delta = 1e-6\n",
    "best_loss = float('inf')\n",
    "patience_counter = 0\n",
    "\n",
    "# Listas para ir guardando la pérdida y las tasas de éxito/error/incertidumbre en el entrenamiento\n",
    "loss_history = []\n",
    "train_suc_history = []\n",
    "train_err_history = []\n",
    "train_inc_history = []\n",
    " \n",
    "# Listas para métricas en test\n",
    "test_suc_history = []\n",
    "test_err_history = []\n",
    "test_inc_history = []\n",
    "\n",
    "for it in tqdm(range(n_iter), desc=\"Entrenando\"):\n",
    "    \n",
    "    params, curr_loss = opt.step_and_cost(lambda v: loss(v, data_train), params)\n",
    "    \n",
    "    # Early stopping\n",
    "    if best_loss - curr_loss > min_delta:\n",
    "        best_loss = curr_loss\n",
    "        patience_counter = 0\n",
    "    else:\n",
    "        patience_counter += 1\n",
    "\n",
    "    if patience_counter >= patience:\n",
    "        print(f\"⏹️ Early stopping en la iteración {it+1}. Mejor pérdida: {best_loss:.6f}\")\n",
    "        break\n",
    "\n",
    "    # Calculamos métricas en el train set\n",
    "    suc_train, err_train, inc_train = evaluate_model(params, data_train)\n",
    "\n",
    "    # Calculamos métricas en el test set\n",
    "    suc_test, err_test, inc_test = evaluate_model(params, data_test)\n",
    "\n",
    "    # Para guardar las métricas de entrenamiento y prueba\n",
    "    loss_history.append(curr_loss)\n",
    "    train_suc_history.append(suc_train)\n",
    "    train_err_history.append(err_train)\n",
    "    train_inc_history.append(inc_train)\n",
    "\n",
    "    test_suc_history.append(suc_test)\n",
    "    test_err_history.append(err_test)\n",
    "    test_inc_history.append(inc_test)\n",
    "\n",
    "    # Imprimimos cada 500 iteraciones\n",
    "    if (it + 1) % 50 == 0:\n",
    "        print(f\"Iter {it+1:3d}: loss={curr_loss:.4f}, \"\n",
    "              f\"train_suc={suc_train:.3f}, train_err={err_train:.3f}, train_inc={inc_train:.3f} | \"\n",
    "              f\"test_suc={suc_test:.3f}, test_err={err_test:.3f}, test_inc={inc_test:.3f}\")\n",
    "\n",
    "# Métricas finales en el test set\n",
    "print(\"\\nParámetros entrenados:\")\n",
    "print(params)\n",
    "print(\"\\nResultados finales en el conjunto de prueba:\")\n",
    "print(f\"  Éxito promedio     = {suc_test:.4f}\")\n",
    "print(f\"  Error promedio     = {err_test:.4f}\")\n",
    "print(f\"  Inconcluso promedio = {inc_test:.4f}\")\n"
   ]
  },
  {
   "cell_type": "code",
   "execution_count": 32,
   "id": "6e02ca82",
   "metadata": {},
   "outputs": [
    {
     "data": {
      "image/png": "[encoded data removed]",
      "text/plain": [
       "<Figure size 1200x500 with 2 Axes>"
      ]
     },
     "metadata": {},
     "output_type": "display_data"
    },
    {
     "data": {
      "image/png": "[encoded data removed]",
      "text/plain": [
       "<Figure size 600x500 with 1 Axes>"
      ]
     },
     "metadata": {},
     "output_type": "display_data"
    }
   ],
   "source": [
    "# Visualización de los resultados\n",
    "plt.figure(figsize=(12,5))\n",
    "\n",
    "# Evolución de la pérdida\n",
    "plt.subplot(1,2,1)\n",
    "plt.plot(range(1, it+1), loss_history, '.-', label=\"Training loss\")\n",
    "plt.xlabel(\"Iteración\")\n",
    "plt.ylabel(\"Pérdida (loss)\")\n",
    "plt.title(\"Evolución de la pérdida durante el entrenamiento\")\n",
    "plt.grid()\n",
    "plt.legend()\n",
    "\n",
    "# Éxito, Error e Inconcluso en train\n",
    "plt.subplot(1,2,2)\n",
    "plt.plot(range(1, it+1), train_suc_history, '.-', label=\"Éxito (train)\")\n",
    "plt.plot(range(1, it+1), train_err_history, '.-', label=\"Error (train)\")\n",
    "plt.plot(range(1, it+1), train_inc_history, '.-', label=\"Inconcluso (train)\")\n",
    "plt.xlabel(\"Iteración\")\n",
    "plt.ylabel(\"Probabilidad promedio\")\n",
    "plt.title(\"Tasas en el conjunto de entrenamiento\")\n",
    "plt.grid()\n",
    "plt.legend()\n",
    "\n",
    "plt.tight_layout()\n",
    "plt.show()\n",
    "\n",
    "# Figura para test\n",
    "plt.figure(figsize=(6,5))\n",
    "\n",
    "# Éxito, Error e Inconcluso en test\n",
    "plt.plot(range(1, it+1), test_suc_history, '.-', label=\"Éxito (test)\")\n",
    "plt.plot(range(1, it+1), test_err_history, '.-', label=\"Error (test)\")\n",
    "plt.plot(range(1, it+1), test_inc_history, '.-', label=\"Inconcluso (test)\")\n",
    "plt.xlabel(\"Iteración\")\n",
    "plt.ylabel(\"Probabilidad promedio\")\n",
    "plt.title(\"Tasas en el conjunto de prueba\")\n",
    "plt.grid()\n",
    "plt.legend()\n",
    "\n",
    "plt.tight_layout()\n",
    "plt.show()"
   ]
  },
  {
   "cell_type": "code",
   "execution_count": 33,
   "id": "6697266d",
   "metadata": {},
   "outputs": [
    {
     "data": {
      "image/png": "[encoded data removed]",
      "text/plain": [
       "<Figure size 640x480 with 2 Axes>"
      ]
     },
     "metadata": {},
     "output_type": "display_data"
    }
   ],
   "source": [
    "#Matriz de confusión\n",
    "\n",
    "def predict_label(params, val, actual_label):\n",
    "    \"\"\"\n",
    "    Devuelve la predicción discreta:\n",
    "      1 => familia 1\n",
    "      2 => familia 2\n",
    "      3 => inconcluso\n",
    "\n",
    "\n",
    "    actual_label se usa para saber qué outcome corresponde a éxito o error.\n",
    "    \"\"\"\n",
    "    probs = get_probabilities(params, val, actual_label)\n",
    "\n",
    "    p_fam1 = probs[0] + probs[2]\n",
    "    p_fam2 = probs[1]\n",
    "    p_inc  = probs[3]\n",
    "\n",
    "    # Tomamos la mayor de las tres\n",
    "    idx = np.argmax([p_fam1, p_fam2, p_inc])\n",
    "    predicted = [1, 2, 3][idx]  # 1=fam1, 2=fam2, 3=inconcluso\n",
    "    return predicted\n",
    "\n",
    "def confusion_matrix_inconclusive(params, samples):\n",
    "\n",
    "    cm = np.zeros((2, 3))\n",
    "    for (val, actual_label) in samples:\n",
    "        pred = predict_label(params, val, actual_label)\n",
    "        row = actual_label - 1  # (1->0, 2->1)\n",
    "        col = pred - 1          # (1->0, 2->1, 3->2)\n",
    "        cm[row, col] += 1\n",
    "    return cm\n",
    "\n",
    "def plot_confusion_matrix_inconclusive(cm, normalize=False):\n",
    "    \"\"\"\n",
    "    Dibuja la matriz\n",
    "    \"\"\"\n",
    "    cm_display = cm.copy()\n",
    "    if normalize:\n",
    "        for i in range(cm_display.shape[0]):\n",
    "            row_sum = np.sum(cm_display[i, :])\n",
    "            if row_sum > 0:\n",
    "                cm_display[i, :] /= row_sum\n",
    "\n",
    "\n",
    "    fig, ax = plt.subplots()\n",
    "    im = ax.imshow(cm_display, cmap='Blues', origin='upper')\n",
    "\n",
    "    # Etiquetas de ejes\n",
    "    ax.set_xticks([0,1,2])\n",
    "    ax.set_yticks([0,1])\n",
    "    ax.set_xticklabels([\"Pred:F1\",\"Pred:F2\",\"Pred:Inc\"])\n",
    "    ax.set_yticklabels([\"Real:F1\",\"Real:F2\"])\n",
    "\n",
    "    # Texto en cada celda\n",
    "    for i in range(2):\n",
    "        for j in range(3):\n",
    "            val = cm_display[i, j]\n",
    "            if normalize:\n",
    "                txt = f\"{val*100:.1f}%\"\n",
    "            else:\n",
    "                txt = f\"{val:.0f}\"\n",
    "            ax.text(j, i, txt, ha='center', va='center', color='black')\n",
    "\n",
    "    plt.colorbar(im, ax=ax)\n",
    "    plt.title(\"Matriz de confusión\")\n",
    "    plt.show()\n",
    "\n",
    "\n",
    "cm_test = confusion_matrix_inconclusive(params, data_test)\n",
    "plot_confusion_matrix_inconclusive(cm_test, normalize=False)\n"
   ]
  },
  {
   "cell_type": "code",
   "execution_count": 7,
   "id": "478879d2",
   "metadata": {},
   "outputs": [],
   "source": [
    "params=pnp.array([ 2.05237045e+00,  3.14159267e+00,  4.85192684e+00,  2.24479211e+00,\n",
    "4.71474722e+00,  3.14123523e+00, -2.63190917e-01,  4.64829157e+00,\n",
    "3.15442749e+00,  6.26636428e+00,  3.14158779e+00,  8.61649326e-01,\n",
    "5.85967011e+00,  4.37823763e+00,  4.14691316e-01,  4.74671435e+00,\n",
    "4.73674379e+00,  5.79953420e+00,  4.88282270e+00,  6.65804262e-09,\n",
    "1.24910562e-01,  1.64688488e-01,  1.77854910e-01,  1.54698976e+00,\n",
    "5.40371497e+00,  3.38557543e+00,  3.47348293e+00,  4.57536325e+00,\n",
    "6.43156905e-08,  1.75416279e+00])"
   ]
  },
  {
   "cell_type": "code",
   "execution_count": 30,
   "id": "9ec485f5",
   "metadata": {},
   "outputs": [],
   "source": [
    "np.random.seed(2)\n",
    "n_test = 10000\n",
    "data_test = []\n",
    "\n",
    "# Clase 1: rho1, etiqueta = 1\n",
    "a_test = np.random.uniform(0, 0 , int(n_test/2))\n",
    "for a in a_test:\n",
    "    rho, label = ρ1(a)\n",
    "    data_test.append((rho, label))\n",
    "    \n",
    "\n",
    "# Clase 2: rho2, etiqueta = 2\n",
    "b_test = np.random.uniform(0, 1, int(n_test/2))\n",
    "for b in b_test:\n",
    "    rho, label = ρ2(b)\n",
    "    data_test.append((rho, label))\n",
    "    "
   ]
  },
  {
   "cell_type": "code",
   "execution_count": null,
   "id": "5519e1b4",
   "metadata": {},
   "outputs": [
    {
     "data": {
      "text/plain": [
       "tensor([[1.+0.j, 0.+0.j, 0.+0.j, 0.+0.j],\n",
       "        [0.+0.j, 0.+0.j, 0.+0.j, 0.+0.j],\n",
       "        [0.+0.j, 0.+0.j, 0.+0.j, 0.+0.j],\n",
       "        [0.+0.j, 0.+0.j, 0.+0.j, 0.+0.j]], requires_grad=True)"
      ]
     },
     "execution_count": 42,
     "metadata": {},
     "output_type": "execute_result"
    }
   ],
   "source": [
    "data_test[0][0]"
   ]
  },
  {
   "cell_type": "code",
   "execution_count": 36,
   "id": "935ab56e",
   "metadata": {},
   "outputs": [
    {
     "data": {
      "text/plain": [
       "(tensor(0.83484252, requires_grad=True),\n",
       " tensor(0.16515748, requires_grad=True),\n",
       " tensor(3.39078153e-17, requires_grad=True))"
      ]
     },
     "execution_count": 36,
     "metadata": {},
     "output_type": "execute_result"
    }
   ],
   "source": [
    "evaluate_model(params, data_test)"
   ]
  },
  {
   "cell_type": "code",
   "execution_count": 10,
   "id": "a5deb95f",
   "metadata": {},
   "outputs": [
    {
     "data": {
      "image/png": "[encoded data removed]",
      "text/plain": [
       "<Figure size 640x480 with 2 Axes>"
      ]
     },
     "metadata": {},
     "output_type": "display_data"
    }
   ],
   "source": [
    "def predict_label(params, val, actual_label):\n",
    "    \n",
    "    probs = get_probabilities(params, val, actual_label)\n",
    "\n",
    "    p_fam1 = probs[0] + probs[2]\n",
    "    p_fam2 = probs[1]\n",
    "    p_inc  = probs[3]\n",
    "\n",
    "    # Tomamos la mayor de las tres\n",
    "    idx = np.argmax([p_fam1, p_fam2, p_inc])\n",
    "    predicted = [1, 2, 3][idx]  # 1=fam1, 2=fam2, 3=inconcluso\n",
    "    return predicted\n",
    "\n",
    "def confusion_matrix_inconclusive(params, samples):\n",
    "\n",
    "    cm = np.zeros((2, 3))\n",
    "    for (val, actual_label) in samples:\n",
    "        pred = predict_label(params, val, actual_label)\n",
    "        row = actual_label - 1  # (1->0, 2->1)\n",
    "        col = pred - 1          # (1->0, 2->1, 3->2)\n",
    "        cm[row, col] += 1\n",
    "    return cm\n",
    "\n",
    "def plot_confusion_matrix_inconclusive(cm, normalize=False):\n",
    "    \"\"\"\n",
    "    Dibuja la matriz\n",
    "    \"\"\"\n",
    "    cm_display = cm.copy()\n",
    "    if normalize:\n",
    "        for i in range(cm_display.shape[0]):\n",
    "            row_sum = np.sum(cm_display[i, :])\n",
    "            if row_sum > 0:\n",
    "                cm_display[i, :] /= row_sum\n",
    "\n",
    "\n",
    "    fig, ax = plt.subplots()\n",
    "    im = ax.imshow(cm_display, cmap='Blues', origin='upper')\n",
    "\n",
    "    # Etiquetas de ejes\n",
    "    ax.set_xticks([0,1,2])\n",
    "    ax.set_yticks([0,1])\n",
    "    ax.set_xticklabels([\"Pred:F1\",\"Pred:F2\",\"Pred:Inc\"])\n",
    "    ax.set_yticklabels([\"Real:F1\",\"Real:F2\"])\n",
    "\n",
    "    # Texto en cada celda\n",
    "    for i in range(2):\n",
    "        for j in range(3):\n",
    "            val = cm_display[i, j]\n",
    "            if normalize:\n",
    "                txt = f\"{val*100:.1f}%\"\n",
    "            else:\n",
    "                txt = f\"{val:.0f}\"\n",
    "            ax.text(j, i, txt, ha='center', va='center', color='black')\n",
    "\n",
    "    plt.colorbar(im, ax=ax)\n",
    "    plt.title(\"Matriz de confusión\")\n",
    "    plt.show()\n",
    "\n",
    "\n",
    "cm_test = confusion_matrix_inconclusive(params, data_test)\n",
    "plot_confusion_matrix_inconclusive(cm_test, normalize=False)"
   ]
  },
  {
   "cell_type": "code",
   "execution_count": 38,
   "id": "bb92447b",
   "metadata": {},
   "outputs": [
    {
     "data": {
      "text/plain": [
       "tensor([3.39953131e-27, 5.91362642e-12, 1.00000000e+00, 2.39190225e-17], requires_grad=True)"
      ]
     },
     "execution_count": 38,
     "metadata": {},
     "output_type": "execute_result"
    }
   ],
   "source": [
    "Circuit(params, data_test[0][0])"
   ]
  },
  {
   "cell_type": "code",
   "execution_count": 11,
   "id": "96f9e982",
   "metadata": {},
   "outputs": [],
   "source": [
    "np.random.seed(2)\n",
    "n_test = 10000\n",
    "data_test = []\n",
    "\n",
    "# Clase 1: rho1, etiqueta = 1\n",
    "a_test = np.random.uniform(0, 1 , int(n_test/2))\n",
    "for a in a_test:\n",
    "    rho, label = ρ1(a)\n",
    "    data_test.append((rho, label))\n",
    "    \n",
    "\n",
    "# Clase 2: rho2, etiqueta = 2\n",
    "b_test = np.random.uniform(0, 0, int(n_test/2))\n",
    "for b in b_test:\n",
    "    rho, label = ρ2(b)\n",
    "    data_test.append((rho, label))"
   ]
  },
  {
   "cell_type": "code",
   "execution_count": 12,
   "id": "561da651",
   "metadata": {},
   "outputs": [
    {
     "data": {
      "image/png": "[encoded data removed]",
      "text/plain": [
       "<Figure size 640x480 with 2 Axes>"
      ]
     },
     "metadata": {},
     "output_type": "display_data"
    }
   ],
   "source": [
    "def predict_label(params, val, actual_label):\n",
    "    \"\"\"\n",
    "    Devuelve la predicción discreta:\n",
    "      1 => familia 1\n",
    "      2 => familia 2\n",
    "      3 => inconcluso\n",
    "\n",
    "\n",
    "    actual_label se usa para saber qué outcome corresponde a éxito o error.\n",
    "    \"\"\"\n",
    "    probs = get_probabilities(params, val, actual_label)\n",
    "\n",
    "    p_fam1 = probs[0] + probs[2]\n",
    "    p_fam2 = probs[1]\n",
    "    p_inc  = probs[3]\n",
    "\n",
    "    # Tomamos la mayor de las tres\n",
    "    idx = np.argmax([p_fam1, p_fam2, p_inc])\n",
    "    predicted = [1, 2, 3][idx]  # 1=fam1, 2=fam2, 3=inconcluso\n",
    "    return predicted\n",
    "\n",
    "def confusion_matrix_inconclusive(params, samples):\n",
    "\n",
    "    cm = np.zeros((2, 3))\n",
    "    for (val, actual_label) in samples:\n",
    "        pred = predict_label(params, val, actual_label)\n",
    "        row = actual_label - 1  # (1->0, 2->1)\n",
    "        col = pred - 1          # (1->0, 2->1, 3->2)\n",
    "        cm[row, col] += 1\n",
    "    return cm\n",
    "\n",
    "def plot_confusion_matrix_inconclusive(cm, normalize=False):\n",
    "    \"\"\"\n",
    "    Dibuja la matriz\n",
    "    \"\"\"\n",
    "    cm_display = cm.copy()\n",
    "    if normalize:\n",
    "        for i in range(cm_display.shape[0]):\n",
    "            row_sum = np.sum(cm_display[i, :])\n",
    "            if row_sum > 0:\n",
    "                cm_display[i, :] /= row_sum\n",
    "\n",
    "\n",
    "    fig, ax = plt.subplots()\n",
    "    im = ax.imshow(cm_display, cmap='Blues', origin='upper')\n",
    "\n",
    "    # Etiquetas de ejes\n",
    "    ax.set_xticks([0,1,2])\n",
    "    ax.set_yticks([0,1])\n",
    "    ax.set_xticklabels([\"Pred:F1\",\"Pred:F2\",\"Pred:Inc\"])\n",
    "    ax.set_yticklabels([\"Real:F1\",\"Real:F2\"])\n",
    "\n",
    "    # Texto en cada celda\n",
    "    for i in range(2):\n",
    "        for j in range(3):\n",
    "            val = cm_display[i, j]\n",
    "            if normalize:\n",
    "                txt = f\"{val*100:.1f}%\"\n",
    "            else:\n",
    "                txt = f\"{val:.0f}\"\n",
    "            ax.text(j, i, txt, ha='center', va='center', color='black')\n",
    "\n",
    "    plt.colorbar(im, ax=ax)\n",
    "    plt.title(\"Matriz de confusión\")\n",
    "    plt.show()\n",
    "\n",
    "\n",
    "cm_test = confusion_matrix_inconclusive(params, data_test)\n",
    "plot_confusion_matrix_inconclusive(cm_test, normalize=False)"
   ]
  },
  {
   "cell_type": "code",
   "execution_count": 13,
   "id": "5635b2d9",
   "metadata": {},
   "outputs": [],
   "source": [
    "np.random.seed(2)\n",
    "n_test = 10000\n",
    "data_test = []\n",
    "\n",
    "# Clase 1: rho1, etiqueta = 1\n",
    "a_test = np.random.uniform(0, 1 , int(n_test/2))\n",
    "for a in a_test:\n",
    "    rho, label = ρ1(a)\n",
    "    data_test.append((rho, label))\n",
    "    \n",
    "\n",
    "# Clase 2: rho2, etiqueta = 2\n",
    "b_test = np.random.uniform(0, 0.2, int(n_test/2))\n",
    "for b in b_test:\n",
    "    rho, label = ρ2(b)\n",
    "    data_test.append((rho, label))"
   ]
  },
  {
   "cell_type": "code",
   "execution_count": 14,
   "id": "41c2c93b",
   "metadata": {},
   "outputs": [
    {
     "data": {
      "image/png": "[encoded data removed]",
      "text/plain": [
       "<Figure size 640x480 with 2 Axes>"
      ]
     },
     "metadata": {},
     "output_type": "display_data"
    }
   ],
   "source": [
    "def predict_label(params, val, actual_label):\n",
    "    \"\"\"\n",
    "    Devuelve la predicción discreta:\n",
    "      1 => familia 1\n",
    "      2 => familia 2\n",
    "      3 => inconcluso\n",
    "\n",
    "\n",
    "    actual_label se usa para saber qué outcome corresponde a éxito o error.\n",
    "    \"\"\"\n",
    "    probs = get_probabilities(params, val, actual_label)\n",
    "\n",
    "    p_fam1 = probs[0] + probs[2]\n",
    "    p_fam2 = probs[1]\n",
    "    p_inc  = probs[3]\n",
    "\n",
    "    # Tomamos la mayor de las tres\n",
    "    idx = np.argmax([p_fam1, p_fam2, p_inc])\n",
    "    predicted = [1, 2, 3][idx]  # 1=fam1, 2=fam2, 3=inconcluso\n",
    "    return predicted\n",
    "\n",
    "def confusion_matrix_inconclusive(params, samples):\n",
    "\n",
    "    cm = np.zeros((2, 3))\n",
    "    for (val, actual_label) in samples:\n",
    "        pred = predict_label(params, val, actual_label)\n",
    "        row = actual_label - 1  # (1->0, 2->1)\n",
    "        col = pred - 1          # (1->0, 2->1, 3->2)\n",
    "        cm[row, col] += 1\n",
    "    return cm\n",
    "\n",
    "def plot_confusion_matrix_inconclusive(cm, normalize=False):\n",
    "    \"\"\"\n",
    "    Dibuja la matriz\n",
    "    \"\"\"\n",
    "    cm_display = cm.copy()\n",
    "    if normalize:\n",
    "        for i in range(cm_display.shape[0]):\n",
    "            row_sum = np.sum(cm_display[i, :])\n",
    "            if row_sum > 0:\n",
    "                cm_display[i, :] /= row_sum\n",
    "\n",
    "\n",
    "    fig, ax = plt.subplots()\n",
    "    im = ax.imshow(cm_display, cmap='Blues', origin='upper')\n",
    "\n",
    "    # Etiquetas de ejes\n",
    "    ax.set_xticks([0,1,2])\n",
    "    ax.set_yticks([0,1])\n",
    "    ax.set_xticklabels([\"Pred:F1\",\"Pred:F2\",\"Pred:Inc\"])\n",
    "    ax.set_yticklabels([\"Real:F1\",\"Real:F2\"])\n",
    "\n",
    "    # Texto en cada celda\n",
    "    for i in range(2):\n",
    "        for j in range(3):\n",
    "            val = cm_display[i, j]\n",
    "            if normalize:\n",
    "                txt = f\"{val*100:.1f}%\"\n",
    "            else:\n",
    "                txt = f\"{val:.0f}\"\n",
    "            ax.text(j, i, txt, ha='center', va='center', color='black')\n",
    "\n",
    "    plt.colorbar(im, ax=ax)\n",
    "    plt.title(\"Matriz de confusión\")\n",
    "    plt.show()\n",
    "\n",
    "\n",
    "cm_test = confusion_matrix_inconclusive(params, data_test)\n",
    "plot_confusion_matrix_inconclusive(cm_test, normalize=False)"
   ]
  },
  {
   "cell_type": "code",
   "execution_count": 15,
   "id": "15709744",
   "metadata": {},
   "outputs": [],
   "source": [
    "np.random.seed(2)\n",
    "n_test = 10000\n",
    "data_test = []\n",
    "\n",
    "# Clase 1: rho1, etiqueta = 1\n",
    "a_test = np.random.uniform(0, 0.2 , int(n_test/2))\n",
    "for a in a_test:\n",
    "    rho, label = ρ1(a)\n",
    "    data_test.append((rho, label))\n",
    "    \n",
    "\n",
    "# Clase 2: rho2, etiqueta = 2\n",
    "b_test = np.random.uniform(0, 1, int(n_test/2))\n",
    "for b in b_test:\n",
    "    rho, label = ρ2(b)\n",
    "    data_test.append((rho, label))"
   ]
  },
  {
   "cell_type": "code",
   "execution_count": 16,
   "id": "fdeed8e7",
   "metadata": {},
   "outputs": [
    {
     "data": {
      "image/png": "[encoded data removed]",
      "text/plain": [
       "<Figure size 640x480 with 2 Axes>"
      ]
     },
     "metadata": {},
     "output_type": "display_data"
    }
   ],
   "source": [
    "def predict_label(params, val, actual_label):\n",
    "    \"\"\"\n",
    "    Devuelve la predicción discreta:\n",
    "      1 => familia 1\n",
    "      2 => familia 2\n",
    "      3 => inconcluso\n",
    "\n",
    "\n",
    "    actual_label se usa para saber qué outcome corresponde a éxito o error.\n",
    "    \"\"\"\n",
    "    probs = get_probabilities(params, val, actual_label)\n",
    "\n",
    "    p_fam1 = probs[0] + probs[2]\n",
    "    p_fam2 = probs[1]\n",
    "    p_inc  = probs[3]\n",
    "\n",
    "    # Tomamos la mayor de las tres\n",
    "    idx = np.argmax([p_fam1, p_fam2, p_inc])\n",
    "    predicted = [1, 2, 3][idx]  # 1=fam1, 2=fam2, 3=inconcluso\n",
    "    return predicted\n",
    "\n",
    "def confusion_matrix_inconclusive(params, samples):\n",
    "\n",
    "    cm = np.zeros((2, 3))\n",
    "    for (val, actual_label) in samples:\n",
    "        pred = predict_label(params, val, actual_label)\n",
    "        row = actual_label - 1  # (1->0, 2->1)\n",
    "        col = pred - 1          # (1->0, 2->1, 3->2)\n",
    "        cm[row, col] += 1\n",
    "    return cm\n",
    "\n",
    "def plot_confusion_matrix_inconclusive(cm, normalize=False):\n",
    "    \"\"\"\n",
    "    Dibuja la matriz\n",
    "    \"\"\"\n",
    "    cm_display = cm.copy()\n",
    "    if normalize:\n",
    "        for i in range(cm_display.shape[0]):\n",
    "            row_sum = np.sum(cm_display[i, :])\n",
    "            if row_sum > 0:\n",
    "                cm_display[i, :] /= row_sum\n",
    "\n",
    "\n",
    "    fig, ax = plt.subplots()\n",
    "    im = ax.imshow(cm_display, cmap='Blues', origin='upper')\n",
    "\n",
    "    # Etiquetas de ejes\n",
    "    ax.set_xticks([0,1,2])\n",
    "    ax.set_yticks([0,1])\n",
    "    ax.set_xticklabels([\"Pred:F1\",\"Pred:F2\",\"Pred:Inc\"])\n",
    "    ax.set_yticklabels([\"Real:F1\",\"Real:F2\"])\n",
    "\n",
    "    # Texto en cada celda\n",
    "    for i in range(2):\n",
    "        for j in range(3):\n",
    "            val = cm_display[i, j]\n",
    "            if normalize:\n",
    "                txt = f\"{val*100:.1f}%\"\n",
    "            else:\n",
    "                txt = f\"{val:.0f}\"\n",
    "            ax.text(j, i, txt, ha='center', va='center', color='black')\n",
    "\n",
    "    plt.colorbar(im, ax=ax)\n",
    "    plt.title(\"Matriz de confusión\")\n",
    "    plt.show()\n",
    "\n",
    "\n",
    "cm_test = confusion_matrix_inconclusive(params, data_test)\n",
    "plot_confusion_matrix_inconclusive(cm_test, normalize=False)"
   ]
  },
  {
   "cell_type": "code",
   "execution_count": 17,
   "id": "cd38f76f",
   "metadata": {},
   "outputs": [],
   "source": [
    "np.random.seed(2)\n",
    "n_test = 10000\n",
    "data_test = []\n",
    "\n",
    "# Clase 1: rho1, etiqueta = 1\n",
    "a_test = np.random.uniform(0, 0.2 , int(n_test/2))\n",
    "for a in a_test:\n",
    "    rho, label = ρ1(a)\n",
    "    data_test.append((rho, label))\n",
    "    \n",
    "\n",
    "# Clase 2: rho2, etiqueta = 2\n",
    "b_test = np.random.uniform(0, 0.2, int(n_test/2))\n",
    "for b in b_test:\n",
    "    rho, label = ρ2(b)\n",
    "    data_test.append((rho, label))"
   ]
  },
  {
   "cell_type": "code",
   "execution_count": 18,
   "id": "338a2ca3",
   "metadata": {},
   "outputs": [
    {
     "data": {
      "image/png": "[encoded data removed]",
      "text/plain": [
       "<Figure size 640x480 with 2 Axes>"
      ]
     },
     "metadata": {},
     "output_type": "display_data"
    }
   ],
   "source": [
    "def predict_label(params, val, actual_label):\n",
    "    \"\"\"\n",
    "    Devuelve la predicción discreta:\n",
    "      1 => familia 1\n",
    "      2 => familia 2\n",
    "      3 => inconcluso\n",
    "\n",
    "\n",
    "    actual_label se usa para saber qué outcome corresponde a éxito o error.\n",
    "    \"\"\"\n",
    "    probs = get_probabilities(params, val, actual_label)\n",
    "\n",
    "    p_fam1 = probs[0] + probs[2]\n",
    "    p_fam2 = probs[1]\n",
    "    p_inc  = probs[3]\n",
    "\n",
    "    # Tomamos la mayor de las tres\n",
    "    idx = np.argmax([p_fam1, p_fam2, p_inc])\n",
    "    predicted = [1, 2, 3][idx]  # 1=fam1, 2=fam2, 3=inconcluso\n",
    "    return predicted\n",
    "\n",
    "def confusion_matrix_inconclusive(params, samples):\n",
    "\n",
    "    cm = np.zeros((2, 3))\n",
    "    for (val, actual_label) in samples:\n",
    "        pred = predict_label(params, val, actual_label)\n",
    "        row = actual_label - 1  # (1->0, 2->1)\n",
    "        col = pred - 1          # (1->0, 2->1, 3->2)\n",
    "        cm[row, col] += 1\n",
    "    return cm\n",
    "\n",
    "def plot_confusion_matrix_inconclusive(cm, normalize=False):\n",
    "    \"\"\"\n",
    "    Dibuja la matriz\n",
    "    \"\"\"\n",
    "    cm_display = cm.copy()\n",
    "    if normalize:\n",
    "        for i in range(cm_display.shape[0]):\n",
    "            row_sum = np.sum(cm_display[i, :])\n",
    "            if row_sum > 0:\n",
    "                cm_display[i, :] /= row_sum\n",
    "\n",
    "\n",
    "    fig, ax = plt.subplots()\n",
    "    im = ax.imshow(cm_display, cmap='Blues', origin='upper')\n",
    "\n",
    "    # Etiquetas de ejes\n",
    "    ax.set_xticks([0,1,2])\n",
    "    ax.set_yticks([0,1])\n",
    "    ax.set_xticklabels([\"Pred:F1\",\"Pred:F2\",\"Pred:Inc\"])\n",
    "    ax.set_yticklabels([\"Real:F1\",\"Real:F2\"])\n",
    "\n",
    "    # Texto en cada celda\n",
    "    for i in range(2):\n",
    "        for j in range(3):\n",
    "            val = cm_display[i, j]\n",
    "            if normalize:\n",
    "                txt = f\"{val*100:.1f}%\"\n",
    "            else:\n",
    "                txt = f\"{val:.0f}\"\n",
    "            ax.text(j, i, txt, ha='center', va='center', color='black')\n",
    "\n",
    "    plt.colorbar(im, ax=ax)\n",
    "    plt.title(\"Matriz de confusión\")\n",
    "    plt.show()\n",
    "\n",
    "\n",
    "cm_test = confusion_matrix_inconclusive(params, data_test)\n",
    "plot_confusion_matrix_inconclusive(cm_test, normalize=False)"
   ]
  },
  {
   "cell_type": "code",
   "execution_count": 34,
   "id": "d332b206",
   "metadata": {},
   "outputs": [],
   "source": [
    "np.random.seed(2)\n",
    "n_test = 10000\n",
    "data_test = []\n",
    "\n",
    "# Clase 1: rho1, etiqueta = 1\n",
    "a_test = np.random.uniform(0.5, 0.5 , int(n_test/2))\n",
    "for a in a_test:\n",
    "    rho, label = ρ1(a)\n",
    "    data_test.append((rho, label))\n",
    "    \n",
    "\n",
    "# Clase 2: rho2, etiqueta = 2\n",
    "b_test = np.random.uniform(0.5, 0.5, int(n_test/2))\n",
    "for b in b_test:\n",
    "    rho, label = ρ2(b)\n",
    "    data_test.append((rho, label))"
   ]
  },
  {
   "cell_type": "code",
   "execution_count": 35,
   "id": "9fb57ee0",
   "metadata": {},
   "outputs": [
    {
     "data": {
      "image/png": "[encoded data removed]",
      "text/plain": [
       "<Figure size 640x480 with 2 Axes>"
      ]
     },
     "metadata": {},
     "output_type": "display_data"
    }
   ],
   "source": [
    "def predict_label(params, val, actual_label):\n",
    "    \"\"\"\n",
    "    Devuelve la predicción discreta:\n",
    "      1 => familia 1\n",
    "      2 => familia 2\n",
    "      3 => inconcluso\n",
    "\n",
    "\n",
    "    actual_label se usa para saber qué outcome corresponde a éxito o error.\n",
    "    \"\"\"\n",
    "    probs = get_probabilities(params, val, actual_label)\n",
    "\n",
    "    p_fam1 = probs[0] + probs[2]\n",
    "    p_fam2 = probs[1]\n",
    "    p_inc  = probs[3]\n",
    "\n",
    "    # Tomamos la mayor de las tres\n",
    "    idx = np.argmax([p_fam1, p_fam2, p_inc])\n",
    "    predicted = [1, 2, 3][idx]  # 1=fam1, 2=fam2, 3=inconcluso\n",
    "    return predicted\n",
    "\n",
    "def confusion_matrix_inconclusive(params, samples):\n",
    "\n",
    "    cm = np.zeros((2, 3))\n",
    "    for (val, actual_label) in samples:\n",
    "        pred = predict_label(params, val, actual_label)\n",
    "        row = actual_label - 1  # (1->0, 2->1)\n",
    "        col = pred - 1          # (1->0, 2->1, 3->2)\n",
    "        cm[row, col] += 1\n",
    "    return cm\n",
    "\n",
    "def plot_confusion_matrix_inconclusive(cm, normalize=False):\n",
    "    \"\"\"\n",
    "    Dibuja la matriz\n",
    "    \"\"\"\n",
    "    cm_display = cm.copy()\n",
    "    if normalize:\n",
    "        for i in range(cm_display.shape[0]):\n",
    "            row_sum = np.sum(cm_display[i, :])\n",
    "            if row_sum > 0:\n",
    "                cm_display[i, :] /= row_sum\n",
    "\n",
    "\n",
    "    fig, ax = plt.subplots()\n",
    "    im = ax.imshow(cm_display, cmap='Blues', origin='upper')\n",
    "\n",
    "    # Etiquetas de ejes\n",
    "    ax.set_xticks([0,1,2])\n",
    "    ax.set_yticks([0,1])\n",
    "    ax.set_xticklabels([\"Pred:F1\",\"Pred:F2\",\"Pred:Inc\"])\n",
    "    ax.set_yticklabels([\"Real:F1\",\"Real:F2\"])\n",
    "\n",
    "    # Texto en cada celda\n",
    "    for i in range(2):\n",
    "        for j in range(3):\n",
    "            val = cm_display[i, j]\n",
    "            if normalize:\n",
    "                txt = f\"{val*100:.1f}%\"\n",
    "            else:\n",
    "                txt = f\"{val:.0f}\"\n",
    "            ax.text(j, i, txt, ha='center', va='center', color='black')\n",
    "\n",
    "    plt.colorbar(im, ax=ax)\n",
    "    plt.title(\"Matriz de confusión\")\n",
    "    plt.show()\n",
    "\n",
    "\n",
    "cm_test = confusion_matrix_inconclusive(params, data_test)\n",
    "plot_confusion_matrix_inconclusive(cm_test, normalize=False)"
   ]
  },
  {
   "cell_type": "code",
   "execution_count": 16,
   "id": "7cf9a50f",
   "metadata": {},
   "outputs": [],
   "source": [
    "np.random.seed(2)\n",
    "n_test = 10000\n",
    "data_test = []\n",
    "\n",
    "# Clase 1: rho1, etiqueta = 1\n",
    "a_test = np.random.uniform(1/np.sqrt(2), 1/np.sqrt(2), int(n_test/2))\n",
    "for a in a_test:\n",
    "    rho, label = ρ1(a)\n",
    "    data_test.append((rho, label))\n",
    "    \n",
    "\n",
    "# Clase 2: rho2, etiqueta = 2\n",
    "b_test = np.random.uniform(1/np.sqrt(2), 1/np.sqrt(2), int(n_test/2))\n",
    "for b in b_test:\n",
    "    rho, label = ρ2(b)\n",
    "    data_test.append((rho, label))"
   ]
  },
  {
   "cell_type": "code",
   "execution_count": 17,
   "id": "a41320e3",
   "metadata": {},
   "outputs": [
    {
     "data": {
      "image/png": "[encoded data removed]",
      "text/plain": [
       "<Figure size 640x480 with 2 Axes>"
      ]
     },
     "metadata": {},
     "output_type": "display_data"
    }
   ],
   "source": [
    "def predict_label(params, val, actual_label):\n",
    "    \"\"\"\n",
    "    Devuelve la predicción discreta:\n",
    "      1 => familia 1\n",
    "      2 => familia 2\n",
    "      3 => inconcluso\n",
    "\n",
    "\n",
    "    actual_label se usa para saber qué outcome corresponde a éxito o error.\n",
    "    \"\"\"\n",
    "    probs = get_probabilities(params, val, actual_label)\n",
    "\n",
    "    p_fam1 = probs[0] + probs[2]\n",
    "    p_fam2 = probs[1]\n",
    "    p_inc  = probs[3]\n",
    "\n",
    "    # Tomamos la mayor de las tres\n",
    "    idx = np.argmax([p_fam1, p_fam2, p_inc])\n",
    "    predicted = [1, 2, 3][idx]  # 1=fam1, 2=fam2, 3=inconcluso\n",
    "    return predicted\n",
    "\n",
    "def confusion_matrix_inconclusive(params, samples):\n",
    "\n",
    "    cm = np.zeros((2, 3))\n",
    "    for (val, actual_label) in samples:\n",
    "        pred = predict_label(params, val, actual_label)\n",
    "        row = actual_label - 1  # (1->0, 2->1)\n",
    "        col = pred - 1          # (1->0, 2->1, 3->2)\n",
    "        cm[row, col] += 1\n",
    "    return cm\n",
    "\n",
    "def plot_confusion_matrix_inconclusive(cm, normalize=False):\n",
    "    \"\"\"\n",
    "    Dibuja la matriz\n",
    "    \"\"\"\n",
    "    cm_display = cm.copy()\n",
    "    if normalize:\n",
    "        for i in range(cm_display.shape[0]):\n",
    "            row_sum = np.sum(cm_display[i, :])\n",
    "            if row_sum > 0:\n",
    "                cm_display[i, :] /= row_sum\n",
    "\n",
    "\n",
    "    fig, ax = plt.subplots()\n",
    "    im = ax.imshow(cm_display, cmap='Blues', origin='upper')\n",
    "\n",
    "    # Etiquetas de ejes\n",
    "    ax.set_xticks([0,1,2])\n",
    "    ax.set_yticks([0,1])\n",
    "    ax.set_xticklabels([\"Pred:F1\",\"Pred:F2\",\"Pred:Inc\"])\n",
    "    ax.set_yticklabels([\"Real:F1\",\"Real:F2\"])\n",
    "\n",
    "    # Texto en cada celda\n",
    "    for i in range(2):\n",
    "        for j in range(3):\n",
    "            val = cm_display[i, j]\n",
    "            if normalize:\n",
    "                txt = f\"{val*100:.1f}%\"\n",
    "            else:\n",
    "                txt = f\"{val:.0f}\"\n",
    "            ax.text(j, i, txt, ha='center', va='center', color='black')\n",
    "\n",
    "    plt.colorbar(im, ax=ax)\n",
    "    plt.title(\"Matriz de confusión\")\n",
    "    plt.show()\n",
    "\n",
    "\n",
    "cm_test = confusion_matrix_inconclusive(params, data_test)\n",
    "plot_confusion_matrix_inconclusive(cm_test, normalize=False)"
   ]
  },
  {
   "cell_type": "markdown",
   "id": "a7352c1a",
   "metadata": {},
   "source": [
    "## Prueba de funcionamiento para estados ortogonales diferentes "
   ]
  },
  {
   "cell_type": "code",
   "execution_count": 23,
   "id": "9ee1de5b",
   "metadata": {},
   "outputs": [],
   "source": [
    "def ρ1(a):\n",
    "    # psi1 vive en subespacio generado por las posiciones 0 y 2\n",
    "    psi1 = pnp.array([np.sqrt(1 - a*a), 0.0, a, 0.0], dtype=complex)\n",
    "    rho1 = pnp.outer(psi1, psi1.conj())\n",
    "    return rho1, 1\n",
    "\n",
    "def ρ2(b):\n",
    "    # psi2 y psi3 viven en subespacio generado por posiciones 1 y 3 (ortogonal a psi1)\n",
    "    psi2 = pnp.array([0.0, np.sqrt(1 - b*b), 0.0, b], dtype=complex)\n",
    "    psi3 = pnp.array([0.0, -np.sqrt(1 - b*b), 0.0, b], dtype=complex)\n",
    "    rho2 = 0.5 * np.outer(psi2, psi2.conj()) + 0.5 * np.outer(psi3, psi3.conj())\n",
    "    return rho2, 2"
   ]
  },
  {
   "cell_type": "code",
   "execution_count": 24,
   "id": "4bd4abad",
   "metadata": {},
   "outputs": [],
   "source": [
    "np.random.seed(2)\n",
    "n_test = 10000\n",
    "data_test = []\n",
    "\n",
    "# Clase 1: rho1, etiqueta = 1\n",
    "a_test = np.random.uniform(0, 1 , int(n_test/2))\n",
    "for a in a_test:\n",
    "    rho, label = ρ1(a)\n",
    "    data_test.append((rho, label))\n",
    "    \n",
    "\n",
    "# Clase 2: rho2, etiqueta = 2\n",
    "b_test = np.random.uniform(0, 1, int(n_test/2))\n",
    "for b in b_test:\n",
    "    rho, label = ρ2(b)\n",
    "    data_test.append((rho, label))"
   ]
  },
  {
   "cell_type": "code",
   "execution_count": 25,
   "id": "63ff1de6",
   "metadata": {},
   "outputs": [
    {
     "data": {
      "image/png": "[encoded data removed]",
      "text/plain": [
       "<Figure size 640x480 with 2 Axes>"
      ]
     },
     "metadata": {},
     "output_type": "display_data"
    }
   ],
   "source": [
    "def predict_label(params, val, actual_label):\n",
    "    \"\"\"\n",
    "    Devuelve la predicción discreta:\n",
    "      1 => familia 1\n",
    "      2 => familia 2\n",
    "      3 => inconcluso\n",
    "\n",
    "\n",
    "    actual_label se usa para saber qué outcome corresponde a éxito o error.\n",
    "    \"\"\"\n",
    "    probs = get_probabilities(params, val, actual_label)\n",
    "\n",
    "    p_fam1 = probs[0] + probs[2]\n",
    "    p_fam2 = probs[1]\n",
    "    p_inc  = probs[3]\n",
    "\n",
    "    # Tomamos la mayor de las tres\n",
    "    idx = np.argmax([p_fam1, p_fam2, p_inc])\n",
    "    predicted = [1, 2, 3][idx]  # 1=fam1, 2=fam2, 3=inconcluso\n",
    "    return predicted\n",
    "\n",
    "def confusion_matrix_inconclusive(params, samples):\n",
    "\n",
    "    cm = np.zeros((2, 3))\n",
    "    for (val, actual_label) in samples:\n",
    "        pred = predict_label(params, val, actual_label)\n",
    "        row = actual_label - 1  # (1->0, 2->1)\n",
    "        col = pred - 1          # (1->0, 2->1, 3->2)\n",
    "        cm[row, col] += 1\n",
    "    return cm\n",
    "\n",
    "def plot_confusion_matrix_inconclusive(cm, normalize=False):\n",
    "    \"\"\"\n",
    "    Dibuja la matriz\n",
    "    \"\"\"\n",
    "    cm_display = cm.copy()\n",
    "    if normalize:\n",
    "        for i in range(cm_display.shape[0]):\n",
    "            row_sum = np.sum(cm_display[i, :])\n",
    "            if row_sum > 0:\n",
    "                cm_display[i, :] /= row_sum\n",
    "\n",
    "\n",
    "    fig, ax = plt.subplots()\n",
    "    im = ax.imshow(cm_display, cmap='Blues', origin='upper')\n",
    "\n",
    "    # Etiquetas de ejes\n",
    "    ax.set_xticks([0,1,2])\n",
    "    ax.set_yticks([0,1])\n",
    "    ax.set_xticklabels([\"Pred:F1\",\"Pred:F2\",\"Pred:Inc\"])\n",
    "    ax.set_yticklabels([\"Real:F1\",\"Real:F2\"])\n",
    "\n",
    "    # Texto en cada celda\n",
    "    for i in range(2):\n",
    "        for j in range(3):\n",
    "            val = cm_display[i, j]\n",
    "            if normalize:\n",
    "                txt = f\"{val*100:.1f}%\"\n",
    "            else:\n",
    "                txt = f\"{val:.0f}\"\n",
    "            ax.text(j, i, txt, ha='center', va='center', color='black')\n",
    "\n",
    "    plt.colorbar(im, ax=ax)\n",
    "    plt.title(\"Matriz de confusión\")\n",
    "    plt.show()\n",
    "\n",
    "\n",
    "cm_test = confusion_matrix_inconclusive(params, data_test)\n",
    "plot_confusion_matrix_inconclusive(cm_test, normalize=False)"
   ]
  }
 ],
 "metadata": {
  "kernelspec": {
   "display_name": "venv",
   "language": "python",
   "name": "python3"
  },
  "language_info": {
   "codemirror_mode": {
    "name": "ipython",
    "version": 3
   },
   "file_extension": ".py",
   "mimetype": "text/x-python",
   "name": "python",
   "nbconvert_exporter": "python",
   "pygments_lexer": "ipython3",
   "version": "3.12.3"
  }
 },
 "nbformat": 4,
 "nbformat_minor": 5
}
